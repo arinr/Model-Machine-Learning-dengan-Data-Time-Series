{
 "cells": [
  {
   "cell_type": "markdown",
   "metadata": {
    "id": "bvKZk4Q1Cc8F"
   },
   "source": [
    "**DATA DIRI**\n",
    "\n",
    "> \n",
    "*   Nama   : Arini Ratnasari\n",
    "*   Email  : ariniratnasari02@gmail.com\n",
    "*   Alamat : BTN Puskopad Sukajaya Blok C No 26 RT/RW 59/17, Jawa Barat\n",
    "*   TTL    : Subang, 10 Agustus 2000"
   ]
  },
  {
   "cell_type": "markdown",
   "metadata": {
    "id": "O5IOJ4SkmjPP"
   },
   "source": [
    "**Mengimport Library**"
   ]
  },
  {
   "cell_type": "code",
   "execution_count": 1,
   "metadata": {
    "id": "dOKpD5Fmmt0G"
   },
   "outputs": [],
   "source": [
    "import numpy as np\n",
    "import pandas as pd\n",
    "from keras.layers import Dense, LSTM\n",
    "import matplotlib.pyplot as plt\n",
    "import tensorflow as tf"
   ]
  },
  {
   "cell_type": "markdown",
   "metadata": {
    "id": "KwW05TByCfhl"
   },
   "source": [
    "**Mengimport Data**"
   ]
  },
  {
   "cell_type": "code",
   "execution_count": 3,
   "metadata": {
    "colab": {
     "base_uri": "https://localhost:8080/",
     "height": 355
    },
    "id": "2OzHJZbJmi3Z",
    "outputId": "866ca23c-f552-4934-c0f2-cd9cce1bf7b5"
   },
   "outputs": [
    {
     "data": {
      "text/html": [
       "<div>\n",
       "<style scoped>\n",
       "    .dataframe tbody tr th:only-of-type {\n",
       "        vertical-align: middle;\n",
       "    }\n",
       "\n",
       "    .dataframe tbody tr th {\n",
       "        vertical-align: top;\n",
       "    }\n",
       "\n",
       "    .dataframe thead th {\n",
       "        text-align: right;\n",
       "    }\n",
       "</style>\n",
       "<table border=\"1\" class=\"dataframe\">\n",
       "  <thead>\n",
       "    <tr style=\"text-align: right;\">\n",
       "      <th></th>\n",
       "      <th>Unnamed: 0</th>\n",
       "      <th>Date</th>\n",
       "      <th>Monthly Mean Total Sunspot Number</th>\n",
       "    </tr>\n",
       "  </thead>\n",
       "  <tbody>\n",
       "    <tr>\n",
       "      <th>0</th>\n",
       "      <td>0</td>\n",
       "      <td>1749-01-31</td>\n",
       "      <td>96.7</td>\n",
       "    </tr>\n",
       "    <tr>\n",
       "      <th>1</th>\n",
       "      <td>1</td>\n",
       "      <td>1749-02-28</td>\n",
       "      <td>104.3</td>\n",
       "    </tr>\n",
       "    <tr>\n",
       "      <th>2</th>\n",
       "      <td>2</td>\n",
       "      <td>1749-03-31</td>\n",
       "      <td>116.7</td>\n",
       "    </tr>\n",
       "    <tr>\n",
       "      <th>3</th>\n",
       "      <td>3</td>\n",
       "      <td>1749-04-30</td>\n",
       "      <td>92.8</td>\n",
       "    </tr>\n",
       "    <tr>\n",
       "      <th>4</th>\n",
       "      <td>4</td>\n",
       "      <td>1749-05-31</td>\n",
       "      <td>141.7</td>\n",
       "    </tr>\n",
       "    <tr>\n",
       "      <th>5</th>\n",
       "      <td>5</td>\n",
       "      <td>1749-06-30</td>\n",
       "      <td>139.2</td>\n",
       "    </tr>\n",
       "    <tr>\n",
       "      <th>6</th>\n",
       "      <td>6</td>\n",
       "      <td>1749-07-31</td>\n",
       "      <td>158.0</td>\n",
       "    </tr>\n",
       "    <tr>\n",
       "      <th>7</th>\n",
       "      <td>7</td>\n",
       "      <td>1749-08-31</td>\n",
       "      <td>110.5</td>\n",
       "    </tr>\n",
       "    <tr>\n",
       "      <th>8</th>\n",
       "      <td>8</td>\n",
       "      <td>1749-09-30</td>\n",
       "      <td>126.5</td>\n",
       "    </tr>\n",
       "    <tr>\n",
       "      <th>9</th>\n",
       "      <td>9</td>\n",
       "      <td>1749-10-31</td>\n",
       "      <td>125.8</td>\n",
       "    </tr>\n",
       "  </tbody>\n",
       "</table>\n",
       "</div>"
      ],
      "text/plain": [
       "   Unnamed: 0        Date  Monthly Mean Total Sunspot Number\n",
       "0           0  1749-01-31                               96.7\n",
       "1           1  1749-02-28                              104.3\n",
       "2           2  1749-03-31                              116.7\n",
       "3           3  1749-04-30                               92.8\n",
       "4           4  1749-05-31                              141.7\n",
       "5           5  1749-06-30                              139.2\n",
       "6           6  1749-07-31                              158.0\n",
       "7           7  1749-08-31                              110.5\n",
       "8           8  1749-09-30                              126.5\n",
       "9           9  1749-10-31                              125.8"
      ]
     },
     "execution_count": 3,
     "metadata": {
      "tags": []
     },
     "output_type": "execute_result"
    }
   ],
   "source": [
    "dataset = pd.read_csv('Sunspots.csv')\n",
    "dataset.head(10)"
   ]
  },
  {
   "cell_type": "markdown",
   "metadata": {
    "id": "-gyOh2ZPn250"
   },
   "source": [
    "**Data Preprocessing**"
   ]
  },
  {
   "cell_type": "code",
   "execution_count": 8,
   "metadata": {
    "colab": {
     "base_uri": "https://localhost:8080/"
    },
    "id": "Jfq4FHmfnnRz",
    "outputId": "c6515612-9816-415d-d837-351446515029"
   },
   "outputs": [
    {
     "data": {
      "text/plain": [
       "(3265, 3)"
      ]
     },
     "execution_count": 8,
     "metadata": {
      "tags": []
     },
     "output_type": "execute_result"
    }
   ],
   "source": [
    "# Mengecek dimensi dataset\n",
    "dataset.shape"
   ]
  },
  {
   "cell_type": "code",
   "execution_count": 6,
   "metadata": {
    "colab": {
     "base_uri": "https://localhost:8080/"
    },
    "id": "vMGIXenCnuzG",
    "outputId": "484dd9c5-792f-4c5f-b286-ab17351c22f7"
   },
   "outputs": [
    {
     "name": "stdout",
     "output_type": "stream",
     "text": [
      "<class 'pandas.core.frame.DataFrame'>\n",
      "RangeIndex: 3265 entries, 0 to 3264\n",
      "Data columns (total 3 columns):\n",
      " #   Column                             Non-Null Count  Dtype  \n",
      "---  ------                             --------------  -----  \n",
      " 0   Unnamed: 0                         3265 non-null   int64  \n",
      " 1   Date                               3265 non-null   object \n",
      " 2   Monthly Mean Total Sunspot Number  3265 non-null   float64\n",
      "dtypes: float64(1), int64(1), object(1)\n",
      "memory usage: 76.6+ KB\n"
     ]
    }
   ],
   "source": [
    "# Mengecek type data dari masing-masing kolom\n",
    "dataset.info()"
   ]
  },
  {
   "cell_type": "code",
   "execution_count": 10,
   "metadata": {
    "colab": {
     "base_uri": "https://localhost:8080/"
    },
    "id": "_m3ITGrEn8UH",
    "outputId": "a425cde1-a974-4d79-f1ae-9e3bdb5b965a"
   },
   "outputs": [
    {
     "data": {
      "text/plain": [
       "Unnamed: 0                           0\n",
       "Date                                 0\n",
       "Monthly Mean Total Sunspot Number    0\n",
       "dtype: int64"
      ]
     },
     "execution_count": 10,
     "metadata": {
      "tags": []
     },
     "output_type": "execute_result"
    }
   ],
   "source": [
    "# Mengecek apakah terdapat missing value\n",
    "dataset.isnull().sum()"
   ]
  },
  {
   "cell_type": "code",
   "execution_count": 13,
   "metadata": {
    "colab": {
     "base_uri": "https://localhost:8080/",
     "height": 385
    },
    "id": "43wrVIIHo1C0",
    "outputId": "9c1da504-cfab-49b6-b47c-9ad57ca227b5"
   },
   "outputs": [
    {
     "data": {
      "text/html": [
       "<div>\n",
       "<style scoped>\n",
       "    .dataframe tbody tr th:only-of-type {\n",
       "        vertical-align: middle;\n",
       "    }\n",
       "\n",
       "    .dataframe tbody tr th {\n",
       "        vertical-align: top;\n",
       "    }\n",
       "\n",
       "    .dataframe thead th {\n",
       "        text-align: right;\n",
       "    }\n",
       "</style>\n",
       "<table border=\"1\" class=\"dataframe\">\n",
       "  <thead>\n",
       "    <tr style=\"text-align: right;\">\n",
       "      <th></th>\n",
       "      <th>Monthly Mean Total Sunspot Number</th>\n",
       "    </tr>\n",
       "    <tr>\n",
       "      <th>Date</th>\n",
       "      <th></th>\n",
       "    </tr>\n",
       "  </thead>\n",
       "  <tbody>\n",
       "    <tr>\n",
       "      <th>1749-01-31</th>\n",
       "      <td>96.7</td>\n",
       "    </tr>\n",
       "    <tr>\n",
       "      <th>1749-02-28</th>\n",
       "      <td>104.3</td>\n",
       "    </tr>\n",
       "    <tr>\n",
       "      <th>1749-03-31</th>\n",
       "      <td>116.7</td>\n",
       "    </tr>\n",
       "    <tr>\n",
       "      <th>1749-04-30</th>\n",
       "      <td>92.8</td>\n",
       "    </tr>\n",
       "    <tr>\n",
       "      <th>1749-05-31</th>\n",
       "      <td>141.7</td>\n",
       "    </tr>\n",
       "    <tr>\n",
       "      <th>1749-06-30</th>\n",
       "      <td>139.2</td>\n",
       "    </tr>\n",
       "    <tr>\n",
       "      <th>1749-07-31</th>\n",
       "      <td>158.0</td>\n",
       "    </tr>\n",
       "    <tr>\n",
       "      <th>1749-08-31</th>\n",
       "      <td>110.5</td>\n",
       "    </tr>\n",
       "    <tr>\n",
       "      <th>1749-09-30</th>\n",
       "      <td>126.5</td>\n",
       "    </tr>\n",
       "    <tr>\n",
       "      <th>1749-10-31</th>\n",
       "      <td>125.8</td>\n",
       "    </tr>\n",
       "  </tbody>\n",
       "</table>\n",
       "</div>"
      ],
      "text/plain": [
       "            Monthly Mean Total Sunspot Number\n",
       "Date                                         \n",
       "1749-01-31                               96.7\n",
       "1749-02-28                              104.3\n",
       "1749-03-31                              116.7\n",
       "1749-04-30                               92.8\n",
       "1749-05-31                              141.7\n",
       "1749-06-30                              139.2\n",
       "1749-07-31                              158.0\n",
       "1749-08-31                              110.5\n",
       "1749-09-30                              126.5\n",
       "1749-10-31                              125.8"
      ]
     },
     "execution_count": 13,
     "metadata": {
      "tags": []
     },
     "output_type": "execute_result"
    }
   ],
   "source": [
    "# Hanya menggunakan kolom Monthly Mean Total Sunspot Number\n",
    "df_new = dataset[['Monthly Mean Total Sunspot Number']]\n",
    "\n",
    "# Merubah index integer menjadi index waktu\n",
    "df_new.set_index(dataset['Date'], inplace = True)\n",
    "df_new.head(10)"
   ]
  },
  {
   "cell_type": "code",
   "execution_count": 14,
   "metadata": {
    "colab": {
     "base_uri": "https://localhost:8080/"
    },
    "id": "M5V5mzlyryzS",
    "outputId": "79cdf340-9763-4a81-dc7f-c019a08d0c5a"
   },
   "outputs": [
    {
     "name": "stdout",
     "output_type": "stream",
     "text": [
      "<class 'pandas.core.frame.DataFrame'>\n",
      "Index: 3265 entries, 1749-01-31 to 2021-01-31\n",
      "Data columns (total 1 columns):\n",
      " #   Column                             Non-Null Count  Dtype  \n",
      "---  ------                             --------------  -----  \n",
      " 0   Monthly Mean Total Sunspot Number  3265 non-null   float64\n",
      "dtypes: float64(1)\n",
      "memory usage: 51.0+ KB\n"
     ]
    }
   ],
   "source": [
    "# Mengecek type dataset baru\n",
    "df_new.info()"
   ]
  },
  {
   "cell_type": "markdown",
   "metadata": {
    "id": "oefyGdX4sV6q"
   },
   "source": [
    "**Visualisasi Data**"
   ]
  },
  {
   "cell_type": "code",
   "execution_count": 15,
   "metadata": {
    "colab": {
     "base_uri": "https://localhost:8080/",
     "height": 513
    },
    "id": "f_BmPqoGsUS5",
    "outputId": "f0daefe4-789e-45c9-ad32-008a44feb8d4"
   },
   "outputs": [
    {
     "data": {
      "image/png": "[encoded data removed]",
      "text/plain": [
       "<Figure size 1440x576 with 1 Axes>"
      ]
     },
     "metadata": {
      "needs_background": "light",
      "tags": []
     },
     "output_type": "display_data"
    }
   ],
   "source": [
    "plt.figure(figsize=(20,8))\n",
    "plt.plot(df_new)\n",
    "plt.title('Monthly Mean Total Sunspot Number')\n",
    "plt.xlabel('Date')\n",
    "plt.ylabel('Sunspot Number')\n",
    "plt.show()"
   ]
  },
  {
   "cell_type": "markdown",
   "metadata": {
    "id": "CqTV7vzqssjD"
   },
   "source": [
    "**Pembentukan Model**"
   ]
  },
  {
   "cell_type": "code",
   "execution_count": 16,
   "metadata": {
    "id": "VULpl9ftsrZt"
   },
   "outputs": [],
   "source": [
    "# Mendapatkan nilai dari data\n",
    "date = dataset['Date'].values\n",
    "sunspot = dataset['Monthly Mean Total Sunspot Number'].values"
   ]
  },
  {
   "cell_type": "code",
   "execution_count": 17,
   "metadata": {
    "id": "dwn8FARlteRI"
   },
   "outputs": [],
   "source": [
    "# Fungsi di bawah menerima sebuah series/atribut kita yang telah \n",
    "# di konversi menjadi tipe numpy, lalu mengembalikan \n",
    "# label dan atribut dari dataset dalam bentuk batch.\n",
    "\n",
    "def windowed_dataset(series, window_size, batch_size, shuffle_buffer):\n",
    "    series = tf.expand_dims(series, axis=-1)\n",
    "    ds = tf.data.Dataset.from_tensor_slices(series)\n",
    "    ds = ds.window(window_size + 1, shift=1, drop_remainder=True)\n",
    "    ds = ds.flat_map(lambda w: w.batch(window_size + 1))\n",
    "    ds = ds.shuffle(shuffle_buffer)\n",
    "    ds = ds.map(lambda w: (w[:-1], w[-1:]))\n",
    "    return ds.batch(batch_size).prefetch(1)"
   ]
  },
  {
   "cell_type": "code",
   "execution_count": 18,
   "metadata": {
    "colab": {
     "base_uri": "https://localhost:8080/"
    },
    "id": "cYT1OC12teIy",
    "outputId": "e0a68937-8a4c-42e8-c228-fc303723b66b"
   },
   "outputs": [
    {
     "name": "stdout",
     "output_type": "stream",
     "text": [
      "2612 653\n"
     ]
    }
   ],
   "source": [
    "from sklearn.model_selection import train_test_split\n",
    "\n",
    "x_train, x_test, y_train, y_test = train_test_split(sunspot, date, test_size = 0.2, random_state = 0 , shuffle=False)\n",
    "print(len(x_train), len(x_test))"
   ]
  },
  {
   "cell_type": "code",
   "execution_count": 19,
   "metadata": {
    "colab": {
     "base_uri": "https://localhost:8080/"
    },
    "id": "41HLYJhGuC27",
    "outputId": "c64bdce5-04b5-4364-f798-69178b405731"
   },
   "outputs": [
    {
     "name": "stderr",
     "output_type": "stream",
     "text": [
      "/usr/local/lib/python3.7/dist-packages/tensorflow/python/keras/optimizer_v2/optimizer_v2.py:375: UserWarning: The `lr` argument is deprecated, use `learning_rate` instead.\n",
      "  \"The `lr` argument is deprecated, use `learning_rate` instead.\")\n"
     ]
    }
   ],
   "source": [
    "data_train = windowed_dataset(x_train, window_size = 60, \n",
    "                              batch_size = 100, shuffle_buffer = 1000)\n",
    "data_test = windowed_dataset(x_test, window_size = 60, \n",
    "                             batch_size = 100, shuffle_buffer = 1000)\n",
    "\n",
    "model = tf.keras.models.Sequential([\n",
    "  tf.keras.layers.LSTM(60, return_sequences=True),\n",
    "  tf.keras.layers.LSTM(60),\n",
    "  tf.keras.layers.Dense(30, activation=\"relu\"),\n",
    "  tf.keras.layers.Dense(10, activation=\"relu\"),\n",
    "  tf.keras.layers.Dense(1),\n",
    "  tf.keras.layers.Lambda(lambda x: x * 400)\n",
    "])\n",
    "\n",
    "lr_schedule = tf.keras.callbacks.LearningRateScheduler(\n",
    "    lambda epoch: 1e-8 * 10**(epoch / 20))\n",
    "optimizer = tf.keras.optimizers.SGD(lr=1e-8, momentum=0.9)\n",
    "model.compile(loss=tf.keras.losses.Huber(),\n",
    "              optimizer=optimizer,\n",
    "              metrics=[\"mae\"])"
   ]
  },
  {
   "cell_type": "code",
   "execution_count": 20,
   "metadata": {
    "colab": {
     "base_uri": "https://localhost:8080/"
    },
    "id": "2twu6r7wvbtb",
    "outputId": "0596c03b-569b-4316-fc95-f395fc23c403"
   },
   "outputs": [
    {
     "name": "stdout",
     "output_type": "stream",
     "text": [
      "Max value : \n",
      "398.2\n"
     ]
    }
   ],
   "source": [
    "max = dataset['Monthly Mean Total Sunspot Number'].max()\n",
    "print('Max value : ' )\n",
    "print(max)"
   ]
  },
  {
   "cell_type": "code",
   "execution_count": 22,
   "metadata": {
    "colab": {
     "base_uri": "https://localhost:8080/"
    },
    "id": "t8W3tX3VvrgI",
    "outputId": "a15b6f7d-21b3-45b3-8c9a-04be723c8906"
   },
   "outputs": [
    {
     "name": "stdout",
     "output_type": "stream",
     "text": [
      "Min Value : \n",
      "0.0\n"
     ]
    }
   ],
   "source": [
    "min = dataset['Monthly Mean Total Sunspot Number'].min()\n",
    "print('Min Value : ')\n",
    "print(min)"
   ]
  },
  {
   "cell_type": "code",
   "execution_count": 23,
   "metadata": {
    "colab": {
     "base_uri": "https://localhost:8080/"
    },
    "id": "IhdTOpylwRMv",
    "outputId": "3b95bb2e-57e2-4957-94ee-79ce2f3dc979"
   },
   "outputs": [
    {
     "name": "stdout",
     "output_type": "stream",
     "text": [
      "39.82\n"
     ]
    }
   ],
   "source": [
    "y = (max - min) * (10 / 100)\n",
    "print(y)"
   ]
  },
  {
   "cell_type": "code",
   "execution_count": 24,
   "metadata": {
    "id": "ioNc3ULxwZE8"
   },
   "outputs": [],
   "source": [
    "# Callback\n",
    "class myCallback(tf.keras.callbacks.Callback):\n",
    "  def on_epoch_end(self, epoch, logs={}):\n",
    "    if(logs.get('mae')< y):\n",
    "      self.model.stop_training = True\n",
    "      print(\"\\nMAE of the model < 10% of data scale\")\n",
    "callbacks = myCallback()"
   ]
  },
  {
   "cell_type": "code",
   "execution_count": 25,
   "metadata": {
    "colab": {
     "base_uri": "https://localhost:8080/"
    },
    "id": "5cNVIvqOwnW2",
    "outputId": "92036d21-e4ba-4488-a7e5-bac2512b813e"
   },
   "outputs": [
    {
     "name": "stdout",
     "output_type": "stream",
     "text": [
      "Epoch 1/500\n",
      "26/26 [==============================] - 9s 170ms/step - loss: 108.9303 - mae: 109.4300 - val_loss: 109.0226 - val_mae: 109.5226\n",
      "Epoch 2/500\n",
      "26/26 [==============================] - 3s 125ms/step - loss: 105.0367 - mae: 105.5363 - val_loss: 104.7470 - val_mae: 105.2470\n",
      "Epoch 3/500\n",
      "26/26 [==============================] - 3s 120ms/step - loss: 100.6541 - mae: 101.1540 - val_loss: 100.3939 - val_mae: 100.8939\n",
      "Epoch 4/500\n",
      "26/26 [==============================] - 3s 126ms/step - loss: 96.2545 - mae: 96.7540 - val_loss: 96.0783 - val_mae: 96.5783\n",
      "Epoch 5/500\n",
      "26/26 [==============================] - 3s 126ms/step - loss: 91.9229 - mae: 92.4223 - val_loss: 91.8531 - val_mae: 92.3526\n",
      "Epoch 6/500\n",
      "26/26 [==============================] - 3s 119ms/step - loss: 87.6782 - mae: 88.1779 - val_loss: 87.7392 - val_mae: 88.2391\n",
      "Epoch 7/500\n",
      "26/26 [==============================] - 3s 122ms/step - loss: 83.5724 - mae: 84.0709 - val_loss: 83.7198 - val_mae: 84.2172\n",
      "Epoch 8/500\n",
      "26/26 [==============================] - 3s 119ms/step - loss: 79.6423 - mae: 80.1386 - val_loss: 79.8932 - val_mae: 80.3893\n",
      "Epoch 9/500\n",
      "26/26 [==============================] - 3s 127ms/step - loss: 75.9647 - mae: 76.4623 - val_loss: 76.3719 - val_mae: 76.8666\n",
      "Epoch 10/500\n",
      "26/26 [==============================] - 4s 132ms/step - loss: 72.5664 - mae: 73.0620 - val_loss: 73.2153 - val_mae: 73.7105\n",
      "Epoch 11/500\n",
      "26/26 [==============================] - 3s 123ms/step - loss: 69.4883 - mae: 69.9848 - val_loss: 70.3854 - val_mae: 70.8827\n",
      "Epoch 12/500\n",
      "26/26 [==============================] - 3s 120ms/step - loss: 66.7490 - mae: 67.2454 - val_loss: 67.7551 - val_mae: 68.2504\n",
      "Epoch 13/500\n",
      "26/26 [==============================] - 4s 130ms/step - loss: 64.3046 - mae: 64.8008 - val_loss: 65.4824 - val_mae: 65.9797\n",
      "Epoch 14/500\n",
      "26/26 [==============================] - 4s 129ms/step - loss: 62.1774 - mae: 62.6733 - val_loss: 63.4979 - val_mae: 63.9939\n",
      "Epoch 15/500\n",
      "26/26 [==============================] - 3s 119ms/step - loss: 60.2929 - mae: 60.7903 - val_loss: 61.7628 - val_mae: 62.2565\n",
      "Epoch 16/500\n",
      "26/26 [==============================] - 3s 125ms/step - loss: 58.6043 - mae: 59.1016 - val_loss: 60.2276 - val_mae: 60.7250\n",
      "Epoch 17/500\n",
      "26/26 [==============================] - 4s 130ms/step - loss: 57.0521 - mae: 57.5492 - val_loss: 58.7933 - val_mae: 59.2897\n",
      "Epoch 18/500\n",
      "26/26 [==============================] - 3s 123ms/step - loss: 55.5893 - mae: 56.0855 - val_loss: 57.5461 - val_mae: 58.0421\n",
      "Epoch 19/500\n",
      "26/26 [==============================] - 3s 127ms/step - loss: 54.2728 - mae: 54.7698 - val_loss: 56.3992 - val_mae: 56.8983\n",
      "Epoch 20/500\n",
      "26/26 [==============================] - 3s 124ms/step - loss: 53.0648 - mae: 53.5627 - val_loss: 55.3331 - val_mae: 55.8303\n",
      "Epoch 21/500\n",
      "26/26 [==============================] - 3s 120ms/step - loss: 51.9491 - mae: 52.4468 - val_loss: 54.3502 - val_mae: 54.8466\n",
      "Epoch 22/500\n",
      "26/26 [==============================] - 3s 122ms/step - loss: 50.9371 - mae: 51.4344 - val_loss: 53.4711 - val_mae: 53.9686\n",
      "Epoch 23/500\n",
      "26/26 [==============================] - 3s 121ms/step - loss: 50.0076 - mae: 50.5051 - val_loss: 52.6935 - val_mae: 53.1904\n",
      "Epoch 24/500\n",
      "26/26 [==============================] - 4s 129ms/step - loss: 49.1889 - mae: 49.6864 - val_loss: 51.9528 - val_mae: 52.4499\n",
      "Epoch 25/500\n",
      "26/26 [==============================] - 3s 121ms/step - loss: 48.4489 - mae: 48.9464 - val_loss: 51.2792 - val_mae: 51.7775\n",
      "Epoch 26/500\n",
      "26/26 [==============================] - 3s 117ms/step - loss: 47.7623 - mae: 48.2603 - val_loss: 50.6744 - val_mae: 51.1732\n",
      "Epoch 27/500\n",
      "26/26 [==============================] - 3s 122ms/step - loss: 47.1435 - mae: 47.6405 - val_loss: 50.0983 - val_mae: 50.5967\n",
      "Epoch 28/500\n",
      "26/26 [==============================] - 3s 126ms/step - loss: 46.5775 - mae: 47.0734 - val_loss: 49.5854 - val_mae: 50.0826\n",
      "Epoch 29/500\n",
      "26/26 [==============================] - 3s 119ms/step - loss: 46.0722 - mae: 46.5685 - val_loss: 49.1042 - val_mae: 49.6022\n",
      "Epoch 30/500\n",
      "26/26 [==============================] - 3s 124ms/step - loss: 45.6083 - mae: 46.1050 - val_loss: 48.6749 - val_mae: 49.1735\n",
      "Epoch 31/500\n",
      "26/26 [==============================] - 3s 121ms/step - loss: 45.1975 - mae: 45.6949 - val_loss: 48.2718 - val_mae: 48.7706\n",
      "Epoch 32/500\n",
      "26/26 [==============================] - 3s 120ms/step - loss: 44.8189 - mae: 45.3165 - val_loss: 47.8902 - val_mae: 48.3887\n",
      "Epoch 33/500\n",
      "26/26 [==============================] - 3s 123ms/step - loss: 44.4622 - mae: 44.9598 - val_loss: 47.5411 - val_mae: 48.0380\n",
      "Epoch 34/500\n",
      "26/26 [==============================] - 3s 118ms/step - loss: 44.1309 - mae: 44.6282 - val_loss: 47.2115 - val_mae: 47.7081\n",
      "Epoch 35/500\n",
      "26/26 [==============================] - 3s 117ms/step - loss: 43.8206 - mae: 44.3177 - val_loss: 46.9015 - val_mae: 47.3968\n",
      "Epoch 36/500\n",
      "26/26 [==============================] - 3s 117ms/step - loss: 43.5310 - mae: 44.0279 - val_loss: 46.6147 - val_mae: 47.1130\n",
      "Epoch 37/500\n",
      "26/26 [==============================] - 3s 117ms/step - loss: 43.2589 - mae: 43.7565 - val_loss: 46.3504 - val_mae: 46.8499\n",
      "Epoch 38/500\n",
      "26/26 [==============================] - 3s 122ms/step - loss: 43.0019 - mae: 43.4994 - val_loss: 46.0976 - val_mae: 46.5956\n",
      "Epoch 39/500\n",
      "26/26 [==============================] - 3s 126ms/step - loss: 42.7613 - mae: 43.2580 - val_loss: 45.8615 - val_mae: 46.3591\n",
      "Epoch 40/500\n",
      "26/26 [==============================] - 3s 123ms/step - loss: 42.5319 - mae: 43.0288 - val_loss: 45.6368 - val_mae: 46.1351\n",
      "Epoch 41/500\n",
      "26/26 [==============================] - 3s 124ms/step - loss: 42.3154 - mae: 42.8125 - val_loss: 45.4166 - val_mae: 45.9152\n",
      "Epoch 42/500\n",
      "26/26 [==============================] - 3s 118ms/step - loss: 42.1115 - mae: 42.6087 - val_loss: 45.2123 - val_mae: 45.7088\n",
      "Epoch 43/500\n",
      "26/26 [==============================] - 3s 119ms/step - loss: 41.9209 - mae: 42.4179 - val_loss: 45.0174 - val_mae: 45.5134\n",
      "Epoch 44/500\n",
      "26/26 [==============================] - 3s 127ms/step - loss: 41.7435 - mae: 42.2404 - val_loss: 44.8353 - val_mae: 45.3302\n",
      "Epoch 45/500\n",
      "26/26 [==============================] - 3s 121ms/step - loss: 41.5739 - mae: 42.0709 - val_loss: 44.6616 - val_mae: 45.1575\n",
      "Epoch 46/500\n",
      "26/26 [==============================] - 3s 118ms/step - loss: 41.4141 - mae: 41.9118 - val_loss: 44.4948 - val_mae: 44.9930\n",
      "Epoch 47/500\n",
      "26/26 [==============================] - 3s 120ms/step - loss: 41.2581 - mae: 41.7559 - val_loss: 44.3388 - val_mae: 44.8380\n",
      "Epoch 48/500\n",
      "26/26 [==============================] - 3s 124ms/step - loss: 41.1111 - mae: 41.6083 - val_loss: 44.1801 - val_mae: 44.6797\n",
      "Epoch 49/500\n",
      "26/26 [==============================] - 3s 117ms/step - loss: 40.9663 - mae: 41.4630 - val_loss: 44.0337 - val_mae: 44.5331\n",
      "Epoch 50/500\n",
      "26/26 [==============================] - 3s 117ms/step - loss: 40.8297 - mae: 41.3258 - val_loss: 43.8877 - val_mae: 44.3866\n",
      "Epoch 51/500\n",
      "26/26 [==============================] - 3s 118ms/step - loss: 40.6966 - mae: 41.1926 - val_loss: 43.7473 - val_mae: 44.2454\n",
      "Epoch 52/500\n",
      "26/26 [==============================] - 3s 117ms/step - loss: 40.5677 - mae: 41.0641 - val_loss: 43.6085 - val_mae: 44.1059\n",
      "Epoch 53/500\n",
      "26/26 [==============================] - 3s 121ms/step - loss: 40.4418 - mae: 40.9392 - val_loss: 43.4732 - val_mae: 43.9699\n",
      "Epoch 54/500\n",
      "26/26 [==============================] - 3s 121ms/step - loss: 40.3183 - mae: 40.8160 - val_loss: 43.3388 - val_mae: 43.8359\n",
      "Epoch 55/500\n",
      "26/26 [==============================] - 3s 119ms/step - loss: 40.1987 - mae: 40.6960 - val_loss: 43.2040 - val_mae: 43.7010\n",
      "Epoch 56/500\n",
      "26/26 [==============================] - 3s 118ms/step - loss: 40.0784 - mae: 40.5750 - val_loss: 43.0743 - val_mae: 43.5714\n",
      "Epoch 57/500\n",
      "26/26 [==============================] - 3s 117ms/step - loss: 39.9630 - mae: 40.4599 - val_loss: 42.9489 - val_mae: 43.4456\n",
      "Epoch 58/500\n",
      "26/26 [==============================] - 3s 118ms/step - loss: 39.8495 - mae: 40.3467 - val_loss: 42.8253 - val_mae: 43.3230\n",
      "Epoch 59/500\n",
      "26/26 [==============================] - 3s 118ms/step - loss: 39.7374 - mae: 40.2346 - val_loss: 42.7016 - val_mae: 43.1995\n",
      "Epoch 60/500\n",
      "26/26 [==============================] - 3s 118ms/step - loss: 39.6275 - mae: 40.1246 - val_loss: 42.5812 - val_mae: 43.0793\n",
      "Epoch 61/500\n",
      "26/26 [==============================] - 3s 122ms/step - loss: 39.5199 - mae: 40.0166 - val_loss: 42.4634 - val_mae: 42.9618\n",
      "Epoch 62/500\n",
      "26/26 [==============================] - 3s 124ms/step - loss: 39.4135 - mae: 39.9103 - val_loss: 42.3395 - val_mae: 42.8378\n",
      "Epoch 63/500\n",
      "26/26 [==============================] - 3s 125ms/step - loss: 39.3079 - mae: 39.8046 - val_loss: 42.2249 - val_mae: 42.7227\n",
      "\n",
      "MAE of the model < 10% of data scale\n"
     ]
    }
   ],
   "source": [
    "tf.keras.backend.set_floatx('float64')\n",
    "history = model.fit(data_train, epochs = 500, \n",
    "                    validation_data = data_test, callbacks=[callbacks])"
   ]
  },
  {
   "cell_type": "code",
   "execution_count": 26,
   "metadata": {
    "colab": {
     "base_uri": "https://localhost:8080/",
     "height": 294
    },
    "id": "kJBzQv0tw23o",
    "outputId": "7ab69938-ef97-4c7f-a9b6-9da5b61030a2"
   },
   "outputs": [
    {
     "data": {
      "image/png": "[encoded data removed]",
      "text/plain": [
       "<Figure size 432x288 with 1 Axes>"
      ]
     },
     "metadata": {
      "needs_background": "light",
      "tags": []
     },
     "output_type": "display_data"
    }
   ],
   "source": [
    "# Plot dari MAE\n",
    "import matplotlib.pyplot as plt\n",
    "plt.plot(history.history['mae'])\n",
    "plt.plot(history.history['val_mae'])\n",
    "plt.title('MAE')\n",
    "plt.ylabel('mae')\n",
    "plt.xlabel('epoch')\n",
    "plt.legend(['train', 'test'], loc='upper right')\n",
    "plt.show()"
   ]
  },
  {
   "cell_type": "code",
   "execution_count": 27,
   "metadata": {
    "colab": {
     "base_uri": "https://localhost:8080/",
     "height": 294
    },
    "id": "hmYR5Q9yxNeR",
    "outputId": "76b62063-8556-4990-b0f7-7c0d21c42352"
   },
   "outputs": [
    {
     "data": {
      "image/png": "[encoded data removed]",
      "text/plain": [
       "<Figure size 432x288 with 1 Axes>"
      ]
     },
     "metadata": {
      "needs_background": "light",
      "tags": []
     },
     "output_type": "display_data"
    }
   ],
   "source": [
    "# Plot dari val_loss\n",
    "plt.plot(history.history['loss'])\n",
    "plt.plot(history.history['val_loss'])\n",
    "plt.title('Model Loss')\n",
    "plt.ylabel('loss')\n",
    "plt.xlabel('epoch')\n",
    "plt.legend(['train', 'test'], loc='upper right')\n",
    "plt.show()"
   ]
  }
 ],
 "metadata": {
  "colab": {
   "name": "Submission Time Series_Arini Ratnasari.ipynb",
   "provenance": []
  },
  "kernelspec": {
   "display_name": "Python 3",
   "language": "python",
   "name": "python3"
  },
  "language_info": {
   "codemirror_mode": {
    "name": "ipython",
    "version": 3
   },
   "file_extension": ".py",
   "mimetype": "text/x-python",
   "name": "python",
   "nbconvert_exporter": "python",
   "pygments_lexer": "ipython3",
   "version": "3.7.4"
  }
 },
 "nbformat": 4,
 "nbformat_minor": 1
}
